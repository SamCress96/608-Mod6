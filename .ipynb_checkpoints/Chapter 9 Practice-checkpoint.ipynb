{
 "cells": [
  {
   "cell_type": "markdown",
   "id": "0debec02",
   "metadata": {},
   "source": [
    "## 9.2 Files"
   ]
  },
  {
   "cell_type": "markdown",
   "id": "1f23e16c",
   "metadata": {},
   "source": [
    "Python views a text file as a sequence of characters and a binary file (for images, videos and more) as a sequence of bytes. As in lists and arrays, the first character in a text file and byte in a binary file is located at position 0, so in a file of n characters or bytes, the highest position number is n – 1."
   ]
  },
  {
   "cell_type": "markdown",
   "id": "fef70fda",
   "metadata": {},
   "source": [
    "For each file you open, Python creates a file object that you’ll use to interact with the file."
   ]
  },
  {
   "cell_type": "markdown",
   "id": "a8b272e1",
   "metadata": {},
   "source": [
    "Standard File Objects\n",
    "When a Python program begins execution, it creates three standard file objects:\n",
    "\n",
    "sys.stdin—the standard input file object\n",
    "sys.stdout—the standard output file object\n",
    "sys.stderr—the standard error file object"
   ]
  },
  {
   "cell_type": "markdown",
   "id": "afe7b9dd",
   "metadata": {},
   "source": [
    "## 9.3 Text-File Processing"
   ]
  },
  {
   "cell_type": "markdown",
   "id": "4d1c4ba4",
   "metadata": {},
   "source": [
    "9.3.1 Writing to a Text File: Introducing the with Statement"
   ]
  },
  {
   "cell_type": "markdown",
   "id": "e404cb7e",
   "metadata": {},
   "source": [
    "Let’s create an accounts.txt file and write five client records to the file. Generally, records in text files are stored one per line, so we end each record with a newline character:"
   ]
  },
  {
   "cell_type": "code",
   "execution_count": 2,
   "id": "720d0bb1",
   "metadata": {},
   "outputs": [],
   "source": [
    "with open('accounts.txt', mode='w') as accounts:\n",
    "    accounts.write('100 Jones 24.98\\n')\n",
    "    accounts.write('200 Doe 345.67\\n')\n",
    "    accounts.write('300 White 0.00\\n')\n",
    "    accounts.write('400 Stone -42.16\\n')\n",
    "    accounts.write('500 Rich 224.62\\n')"
   ]
  },
  {
   "cell_type": "code",
   "execution_count": 3,
   "id": "a6fec8fe",
   "metadata": {},
   "outputs": [
    {
     "name": "stdout",
     "output_type": "stream",
     "text": [
      "Account   Name         Balance\n",
      "100       Jones          24.98\n",
      "200       Doe           345.67\n",
      "300       White           0.00\n",
      "400       Stone         -42.16\n",
      "500       Rich          224.62\n"
     ]
    }
   ],
   "source": [
    "with open('accounts.txt', mode='r') as accounts:\n",
    "    print(f'{\"Account\":<10}{\"Name\":<10}{\"Balance\":>10}')\n",
    "    for record in accounts:\n",
    "        account, name, balance = record.split()\n",
    "        print(f'{account:<10}{name:<10}{balance:>10}')"
   ]
  },
  {
   "cell_type": "markdown",
   "id": "52f38cfd",
   "metadata": {},
   "source": [
    "The with Statement"
   ]
  },
  {
   "cell_type": "markdown",
   "id": "41f136a8",
   "metadata": {},
   "source": [
    "Python’s with statement:\n",
    "\n",
    "acquires a resource (in this case, the file object for accounts.txt) and assigns its corresponding object to a variable (accounts in this example),\n",
    "allows the application to use the resource via that variable, and\n",
    "calls the resource object’s close method to release the resource when program control reaches the end of the with statement’s suite."
   ]
  },
  {
   "cell_type": "markdown",
   "id": "ecfc52bb",
   "metadata": {},
   "source": [
    "Built-In Function open"
   ]
  },
  {
   "cell_type": "markdown",
   "id": "a339d091",
   "metadata": {},
   "source": [
    "The built-in open function opens the file accounts.txt and associates it with a file object. The mode argument specifies the file-open mode, indicating whether to open a file for reading from the file, for writing to the file or both. "
   ]
  },
  {
   "cell_type": "markdown",
   "id": "9b1e4d78",
   "metadata": {},
   "source": [
    "Writing to the File"
   ]
  },
  {
   "cell_type": "markdown",
   "id": "86e57ac6",
   "metadata": {},
   "source": [
    "The with statement assigns the object returned by open to the variable accounts in the as clause. In the with statement’s suite, we use the variable accounts to interact with the file. In this case, we call the file object’s write method five times to write five records to the file, each as a separate line of text ending in a newline. At the end of the with statement’s suite, the with statement implicitly calls the file object’s close method to close the file."
   ]
  },
  {
   "cell_type": "markdown",
   "id": "12c00617",
   "metadata": {},
   "source": [
    "Self Check: Create a grades.txt file and write to it the following three records consisting of student IDs, last names and letter grades:"
   ]
  },
  {
   "cell_type": "code",
   "execution_count": 4,
   "id": "6039e38e",
   "metadata": {},
   "outputs": [],
   "source": [
    "with open('grades.txt', mode='w') as grades:\n",
    "    grades.write('1 Red A\\n')\n",
    "    grades.write('2 Green B\\n')\n",
    "    grades.write('3 White A\\n')"
   ]
  },
  {
   "cell_type": "code",
   "execution_count": 23,
   "id": "f9c0ab8e",
   "metadata": {},
   "outputs": [
    {
     "name": "stdout",
     "output_type": "stream",
     "text": [
      "ID        Last_Name      Grade\n",
      "1         Red                A\n",
      "2         Green              B\n",
      "3         White              A\n"
     ]
    }
   ],
   "source": [
    "with open('grades.txt', mode='r') as grades:\n",
    "    print(f'{\"ID\":<10}{\"Last_Name\":<10}{\"Grade\":>10}')\n",
    "    for record in grades:\n",
    "        ID, Last_Name, Grade = record.split()\n",
    "        print(f'{ID:<10}{Last_Name:<10}{Grade:>10}')"
   ]
  },
  {
   "cell_type": "markdown",
   "id": "efc82625",
   "metadata": {},
   "source": [
    "9.3.2 Reading Data from a Text File"
   ]
  },
  {
   "cell_type": "code",
   "execution_count": 24,
   "id": "54dad096",
   "metadata": {},
   "outputs": [
    {
     "name": "stdout",
     "output_type": "stream",
     "text": [
      "Account   Name         Balance\n",
      "100       Jones          24.98\n",
      "200       Doe           345.67\n",
      "300       White           0.00\n",
      "400       Stone         -42.16\n",
      "500       Rich          224.62\n"
     ]
    }
   ],
   "source": [
    "with open('accounts.txt', mode='r') as accounts:\n",
    "    print(f'{\"Account\":<10}{\"Name\":<10}{\"Balance\":>10}')\n",
    "    for record in accounts:\n",
    "        account, name, balance = record.split()\n",
    "        print(f'{account:<10}{name:<10}{balance:>10}')"
   ]
  },
  {
   "cell_type": "code",
   "execution_count": 25,
   "id": "cfda2142",
   "metadata": {},
   "outputs": [
    {
     "name": "stdout",
     "output_type": "stream",
     "text": [
      "ID        Last_Name      Grade\n",
      "1         Red                A\n",
      "2         Green              B\n",
      "3         White              A\n"
     ]
    }
   ],
   "source": [
    "with open('grades.txt', mode='r') as grades:\n",
    "    print(f'{\"ID\":<10}{\"Last_Name\":<10}{\"Grade\":>10}')\n",
    "    for record in grades:\n",
    "        ID, Last_Name, Grade = record.split()\n",
    "        print(f'{ID:<10}{Last_Name:<10}{Grade:>10}')"
   ]
  },
  {
   "cell_type": "markdown",
   "id": "baaecbbd",
   "metadata": {},
   "source": [
    "## 9.4 Updating Text Files"
   ]
  },
  {
   "cell_type": "markdown",
   "id": "de47c7c1",
   "metadata": {},
   "source": [
    "Formatted data written to a text file cannot be modified without the risk of destroying other data."
   ]
  },
  {
   "cell_type": "markdown",
   "id": "e926af19",
   "metadata": {},
   "source": [
    "Updating accounts.txt: Let’s use a with statement to update the accounts.txt file to change account 300’s name from 'White' to 'Williams' "
   ]
  },
  {
   "cell_type": "code",
   "execution_count": 26,
   "id": "3588e807",
   "metadata": {},
   "outputs": [],
   "source": [
    "accounts = open('accounts.txt', 'r')"
   ]
  },
  {
   "cell_type": "code",
   "execution_count": 27,
   "id": "f84bbfe6",
   "metadata": {},
   "outputs": [],
   "source": [
    "temp_file = open('temp_file.txt', 'w')"
   ]
  },
  {
   "cell_type": "code",
   "execution_count": 28,
   "id": "63d838bb",
   "metadata": {},
   "outputs": [],
   "source": [
    "with accounts, temp_file:\n",
    "    for record in accounts:\n",
    "        account, name, balance = record.split()\n",
    "        if account != '300':\n",
    "            temp_file.write(record)\n",
    "        else:\n",
    "            new_record = ' '.join([account, 'Williams', balance])\n",
    "            temp_file.write(new_record + '\\n')"
   ]
  },
  {
   "cell_type": "markdown",
   "id": "76e750bb",
   "metadata": {},
   "source": [
    "This with statement manages two resource objects, specified in a comma-separated list after with. The for statement unpacks each record into account, name and balance. If the account is not '300', we write record (which contains a newline) to temp_file. Otherwise, we assemble the new record containing 'Williams' in place of 'White' and write it to the file. "
   ]
  },
  {
   "cell_type": "code",
   "execution_count": 30,
   "id": "05a882b2",
   "metadata": {},
   "outputs": [
    {
     "name": "stdout",
     "output_type": "stream",
     "text": [
      "Account   Name         Balance\n",
      "100       Jones          24.98\n",
      "200       Doe           345.67\n",
      "300       Williams        0.00\n",
      "400       Stone         -42.16\n",
      "500       Rich          224.62\n"
     ]
    }
   ],
   "source": [
    "with open('temp_file.txt', mode='r') as temp_file:\n",
    "    print(f'{\"Account\":<10}{\"Name\":<10}{\"Balance\":>10}')\n",
    "    for record in temp_file:\n",
    "        account, name, balance = record.split()\n",
    "        print(f'{account:<10}{name:<10}{balance:>10}')"
   ]
  },
  {
   "cell_type": "markdown",
   "id": "3a6b38ca",
   "metadata": {},
   "source": [
    "os Module File-Processing Functions"
   ]
  },
  {
   "cell_type": "markdown",
   "id": "1c43db0f",
   "metadata": {},
   "source": [
    "To complete the update, let’s delete the old accounts.txt file, then rename temp_file.txt as accounts.txt. The os module4 provides functions for interacting with the operating system, including several that manipulate your system’s files and directories. Now that we’ve created the temporary file, let’s use the remove function5 to delete the original file:"
   ]
  },
  {
   "cell_type": "code",
   "execution_count": 31,
   "id": "9fdaef53",
   "metadata": {},
   "outputs": [],
   "source": [
    "import os\n",
    "os.remove('accounts.txt')"
   ]
  },
  {
   "cell_type": "code",
   "execution_count": 32,
   "id": "eeb696d5",
   "metadata": {},
   "outputs": [],
   "source": [
    "os.rename('temp_file.txt', 'accounts.txt')"
   ]
  },
  {
   "cell_type": "code",
   "execution_count": 33,
   "id": "78e31693",
   "metadata": {},
   "outputs": [
    {
     "name": "stdout",
     "output_type": "stream",
     "text": [
      "Account   Name         Balance\n",
      "100       Jones          24.98\n",
      "200       Doe           345.67\n",
      "300       Williams        0.00\n",
      "400       Stone         -42.16\n",
      "500       Rich          224.62\n"
     ]
    }
   ],
   "source": [
    "with open('accounts.txt', mode='r') as accounts:\n",
    "    print(f'{\"Account\":<10}{\"Name\":<10}{\"Balance\":>10}')\n",
    "    for record in accounts:\n",
    "        account, name, balance = record.split()\n",
    "        print(f'{account:<10}{name:<10}{balance:>10}')"
   ]
  },
  {
   "cell_type": "markdown",
   "id": "20d8a4eb",
   "metadata": {},
   "source": [
    "Self Check: In the accounts.txt file, update the last name 'Doe' to 'Smith'."
   ]
  },
  {
   "cell_type": "code",
   "execution_count": 35,
   "id": "798bccb5",
   "metadata": {},
   "outputs": [],
   "source": [
    "accounts = open('accounts.txt', 'r')"
   ]
  },
  {
   "cell_type": "code",
   "execution_count": 36,
   "id": "aa88e934",
   "metadata": {},
   "outputs": [],
   "source": [
    "temp_file = open('temp_file.txt', 'w')"
   ]
  },
  {
   "cell_type": "code",
   "execution_count": 37,
   "id": "7b634ffd",
   "metadata": {},
   "outputs": [],
   "source": [
    "with accounts, temp_file:\n",
    "    for record in accounts:\n",
    "        account, name, balance = record.split()\n",
    "        if account != '200':\n",
    "            temp_file.write(record)\n",
    "        else:\n",
    "            new_record = ' '.join([account, 'Smith', balance])\n",
    "            temp_file.write(new_record + '\\n')"
   ]
  },
  {
   "cell_type": "code",
   "execution_count": 38,
   "id": "91d1b1a3",
   "metadata": {},
   "outputs": [],
   "source": [
    "import os\n",
    "os.remove('accounts.txt')"
   ]
  },
  {
   "cell_type": "code",
   "execution_count": 39,
   "id": "0bebc02a",
   "metadata": {},
   "outputs": [],
   "source": [
    "os.rename('temp_file.txt', 'accounts.txt')"
   ]
  },
  {
   "cell_type": "code",
   "execution_count": 40,
   "id": "2237a945",
   "metadata": {},
   "outputs": [
    {
     "name": "stdout",
     "output_type": "stream",
     "text": [
      "Account   Name         Balance\n",
      "100       Jones          24.98\n",
      "200       Smith         345.67\n",
      "300       Williams        0.00\n",
      "400       Stone         -42.16\n",
      "500       Rich          224.62\n"
     ]
    }
   ],
   "source": [
    "with open('accounts.txt', mode='r') as accounts:\n",
    "    print(f'{\"Account\":<10}{\"Name\":<10}{\"Balance\":>10}')\n",
    "    for record in accounts:\n",
    "        account, name, balance = record.split()\n",
    "        print(f'{account:<10}{name:<10}{balance:>10}')"
   ]
  },
  {
   "cell_type": "markdown",
   "id": "5ad07268",
   "metadata": {},
   "source": [
    "## 9.5 Serialization with JSON"
   ]
  },
  {
   "cell_type": "markdown",
   "id": "3c74623f",
   "metadata": {},
   "source": [
    "JSON (JavaScript Object Notation) is a text-based, human-and-computer-readable, data-interchange format used to represent objects (such as dictionaries, lists and more) as collections of name–value pairs."
   ]
  },
  {
   "cell_type": "markdown",
   "id": "f11783d7",
   "metadata": {},
   "source": [
    "JSON Data Format\n",
    "JSON objects are similar to Python dictionaries. Each JSON object contains a comma-separated list of property names and values, in curly braces. For example, the following key–value pairs might represent a client record:"
   ]
  },
  {
   "cell_type": "markdown",
   "id": "bb4b7859",
   "metadata": {},
   "source": [
    "Values in JSON objects and arrays can be:\n",
    "\n",
    "strings in double quotes (like \"Jones\"),\n",
    "numbers (like 100 or 24.98),\n",
    "JSON Boolean values (represented as true or false in JSON),\n",
    "null (to represent no value, like None in Python),\n",
    "arrays (like [100, 200, 300]), and\n",
    "other JSON objects."
   ]
  },
  {
   "cell_type": "markdown",
   "id": "f7890a4b",
   "metadata": {},
   "source": [
    "Python Standard Library Module json"
   ]
  },
  {
   "cell_type": "markdown",
   "id": "5529c0e9",
   "metadata": {},
   "source": [
    "The json module enables you to convert objects to JSON (JavaScript Object Notation) text format. This is known as serializing the data"
   ]
  },
  {
   "cell_type": "code",
   "execution_count": 41,
   "id": "5063ed2c",
   "metadata": {},
   "outputs": [],
   "source": [
    "accounts_dict = {'accounts': [{'account': 100, 'name': 'Jones', 'balance': 24.98}, {'account': 200, 'name': 'Doe', 'balance': 345.67}]}"
   ]
  },
  {
   "cell_type": "markdown",
   "id": "93f1dee3",
   "metadata": {},
   "source": [
    "Serializing an Object to JSON\n",
    "Let’s write that object in JSON format to a file:"
   ]
  },
  {
   "cell_type": "code",
   "execution_count": 42,
   "id": "959d0910",
   "metadata": {},
   "outputs": [],
   "source": [
    "import json"
   ]
  },
  {
   "cell_type": "code",
   "execution_count": 43,
   "id": "36dc6042",
   "metadata": {},
   "outputs": [],
   "source": [
    "with open('accounts.json', 'w') as accounts:\n",
    "    json.dump(accounts_dict, accounts)"
   ]
  },
  {
   "cell_type": "markdown",
   "id": "57f1acda",
   "metadata": {},
   "source": [
    "This opens the file accounts.json and uses the json module’s dump function to serialize the dictionary accounts_dict into the file."
   ]
  },
  {
   "cell_type": "markdown",
   "id": "fd0cbeec",
   "metadata": {},
   "source": [
    "Deserializing the JSON Text"
   ]
  },
  {
   "cell_type": "markdown",
   "id": "7221ea14",
   "metadata": {},
   "source": [
    "The json module’s load function reads the entire JSON contents of its file object argument and converts the JSON into a Python object. This is known as deserializing the data. "
   ]
  },
  {
   "cell_type": "code",
   "execution_count": 44,
   "id": "6eafc53d",
   "metadata": {},
   "outputs": [],
   "source": [
    "with open('accounts.json', 'r') as accounts:\n",
    "    accounts_json = json.load(accounts)"
   ]
  },
  {
   "cell_type": "markdown",
   "id": "062d73bb",
   "metadata": {},
   "source": [
    "We can now interact with the loaded object. For example, we can display the dictionary:"
   ]
  },
  {
   "cell_type": "code",
   "execution_count": 45,
   "id": "396aa1b8",
   "metadata": {},
   "outputs": [
    {
     "data": {
      "text/plain": [
       "{'accounts': [{'account': 100, 'name': 'Jones', 'balance': 24.98},\n",
       "  {'account': 200, 'name': 'Doe', 'balance': 345.67}]}"
      ]
     },
     "execution_count": 45,
     "metadata": {},
     "output_type": "execute_result"
    }
   ],
   "source": [
    "accounts_json"
   ]
  },
  {
   "cell_type": "markdown",
   "id": "1228c68b",
   "metadata": {},
   "source": [
    "As you’d expect, you can access the dictionary’s contents. Let’s get the list of dictionaries associated with the 'accounts' key:"
   ]
  },
  {
   "cell_type": "code",
   "execution_count": 47,
   "id": "04f8dc16",
   "metadata": {},
   "outputs": [
    {
     "data": {
      "text/plain": [
       "[{'account': 100, 'name': 'Jones', 'balance': 24.98},\n",
       " {'account': 200, 'name': 'Doe', 'balance': 345.67}]"
      ]
     },
     "execution_count": 47,
     "metadata": {},
     "output_type": "execute_result"
    }
   ],
   "source": [
    "accounts_json['accounts']"
   ]
  },
  {
   "cell_type": "markdown",
   "id": "af4da63c",
   "metadata": {},
   "source": [
    "Now, let’s get the individual account dictionaries:"
   ]
  },
  {
   "cell_type": "code",
   "execution_count": 48,
   "id": "dfc5ce05",
   "metadata": {},
   "outputs": [
    {
     "data": {
      "text/plain": [
       "{'account': 100, 'name': 'Jones', 'balance': 24.98}"
      ]
     },
     "execution_count": 48,
     "metadata": {},
     "output_type": "execute_result"
    }
   ],
   "source": [
    "accounts_json['accounts'][0]"
   ]
  },
  {
   "cell_type": "code",
   "execution_count": 49,
   "id": "69f5f2fc",
   "metadata": {},
   "outputs": [
    {
     "data": {
      "text/plain": [
       "{'account': 200, 'name': 'Doe', 'balance': 345.67}"
      ]
     },
     "execution_count": 49,
     "metadata": {},
     "output_type": "execute_result"
    }
   ],
   "source": [
    "accounts_json['accounts'][1]"
   ]
  },
  {
   "cell_type": "markdown",
   "id": "bd5347aa",
   "metadata": {},
   "source": [
    "Displaying the JSON Text"
   ]
  },
  {
   "cell_type": "markdown",
   "id": "daf6aeaf",
   "metadata": {},
   "source": [
    "The json module’s dumps function (dumps is short for “dump string”) returns a Python string representation of an object in JSON format. Using dumps with load, you can read the JSON from the file and display it in a nicely indented format—sometimes called “pretty printing” the JSON. When the dumps function call includes the indent keyword argument, the string contains newline characters and indentation for pretty printing—you   also can use indent with the dump function when writing to a file:"
   ]
  },
  {
   "cell_type": "code",
   "execution_count": 50,
   "id": "ed83771d",
   "metadata": {},
   "outputs": [
    {
     "name": "stdout",
     "output_type": "stream",
     "text": [
      "{\n",
      "    \"accounts\": [\n",
      "        {\n",
      "            \"account\": 100,\n",
      "            \"name\": \"Jones\",\n",
      "            \"balance\": 24.98\n",
      "        },\n",
      "        {\n",
      "            \"account\": 200,\n",
      "            \"name\": \"Doe\",\n",
      "            \"balance\": 345.67\n",
      "        }\n",
      "    ]\n",
      "}\n"
     ]
    }
   ],
   "source": [
    "with open('accounts.json', 'r') as accounts:\n",
    "    print(json.dumps(json.load(accounts), indent=4))"
   ]
  },
  {
   "cell_type": "markdown",
   "id": "17521de2",
   "metadata": {},
   "source": [
    "Self check: Create a JSON file named grades.json and write into it the following dictionary:"
   ]
  },
  {
   "cell_type": "code",
   "execution_count": 51,
   "id": "da4346f2",
   "metadata": {},
   "outputs": [],
   "source": [
    "grades_dict = {'gradebook':\n",
    "    [{'student_id': 1, 'name': 'Red', 'grade': 'A'},\n",
    "     {'student_id': 2, 'name': 'Green', 'grade': 'B'},\n",
    "     {'student_id': 3, 'name': 'White', 'grade': 'A'}]}"
   ]
  },
  {
   "cell_type": "code",
   "execution_count": 52,
   "id": "b1eedcaf",
   "metadata": {},
   "outputs": [],
   "source": [
    "import json"
   ]
  },
  {
   "cell_type": "code",
   "execution_count": 53,
   "id": "1661e293",
   "metadata": {},
   "outputs": [],
   "source": [
    "with open('grades.json', 'w') as grades:\n",
    "    json.dump(grades_dict, grades)"
   ]
  },
  {
   "cell_type": "code",
   "execution_count": 54,
   "id": "2e7b3c1d",
   "metadata": {},
   "outputs": [
    {
     "name": "stdout",
     "output_type": "stream",
     "text": [
      "{\n",
      "    \"gradebook\": [\n",
      "        {\n",
      "            \"student_id\": 1,\n",
      "            \"name\": \"Red\",\n",
      "            \"grade\": \"A\"\n",
      "        },\n",
      "        {\n",
      "            \"student_id\": 2,\n",
      "            \"name\": \"Green\",\n",
      "            \"grade\": \"B\"\n",
      "        },\n",
      "        {\n",
      "            \"student_id\": 3,\n",
      "            \"name\": \"White\",\n",
      "            \"grade\": \"A\"\n",
      "        }\n",
      "    ]\n",
      "}\n"
     ]
    }
   ],
   "source": [
    "with open('grades.json', 'r') as grades:\n",
    "    print(json.dumps(json.load(grades), indent=4))"
   ]
  },
  {
   "cell_type": "markdown",
   "id": "78c1dbd3",
   "metadata": {},
   "source": [
    "## 9.6 Focus on Security: pickle Serialization and Deserialization"
   ]
  },
  {
   "cell_type": "markdown",
   "id": "56f2b1a5",
   "metadata": {},
   "source": [
    "The Python Standard Library’s pickle module can serialize objects into in a Python-specific data format. Caution: The Python documentation provides the following warnings about pickle:\n",
    "\n",
    "Pickle files can be hacked.\n",
    "Pickle is a protocol which allows the serialization of arbitrarily complex Python objects. As such, it is specific to Python and cannot be used to communicate with applications written in other languages.\n",
    "\n",
    "We do not recommend using pickle, but it’s been used for many years, so you’re likely to encounter it in legacy code—old code that’s often no longer supported. For this reason, we’ve included an end-of-chapter pickle exercise, which explains how to use it."
   ]
  },
  {
   "cell_type": "markdown",
   "id": "f61f52be",
   "metadata": {},
   "source": [
    "## 9.7 Additional Notes Regarding Files"
   ]
  },
  {
   "cell_type": "markdown",
   "id": "627dcf18",
   "metadata": {},
   "source": [
    "'r' Open a text file for reading\n",
    "'w' Open a text file for writing. Existing file contents are deleted\n",
    "'a' Open a text file for appending at the end, creating the file if it does not exsist. New data is written at the end of the file.\n",
    "'r+' Open a text file for reading and writing\n",
    "'w+' Open a text file for reading and writing, exsisting file contents are deleted.\n",
    "'a+' Open a text file for reading and appending at the end. New data is written at the end of the file. If the file does not exist it is created. "
   ]
  },
  {
   "cell_type": "markdown",
   "id": "092b0b74",
   "metadata": {},
   "source": [
    "Other File Object Methods\n",
    "Here are a few more useful file-object methods.\n",
    "\n",
    "For a text file, the read method returns a string containing the number of characters specified by the method’s integer argument. For a binary file, the method returns the specified number of bytes. If no argument is specified, the method returns the entire contents of the file.\n",
    "The readline method returns one line of text as a string, including the newline character if there is one. This method returns an empty string when it encounters the end of the file.\n",
    "The writelines method receives a list of strings and writes its contents to a file."
   ]
  },
  {
   "cell_type": "markdown",
   "id": "e5b17722",
   "metadata": {},
   "source": [
    "## 9.8 Handling Exceptions"
   ]
  },
  {
   "cell_type": "markdown",
   "id": "3f1a0e92",
   "metadata": {},
   "source": [
    "Various types of exceptions can occur when you work with files, including:\n",
    "\n",
    "A FileNotFoundError occurs if you attempt to open a non-existent file for reading with the 'r' or 'r+' modes.\n",
    "A PermissionsError occurs if you attempt an operation for which you do not have permission. \n",
    "A ValueError (with the error message 'I/O operation on closed file.') occurs when you attempt to write to a file that has already been closed."
   ]
  },
  {
   "cell_type": "markdown",
   "id": "7a9d4f0e",
   "metadata": {},
   "source": [
    "9.8.1 Division by Zero and Invalid Input"
   ]
  },
  {
   "cell_type": "markdown",
   "id": "252bf965",
   "metadata": {},
   "source": [
    "Division By Zero  \n",
    "Recall that attempting to divide by 0 results in a ZeroDivisionError:"
   ]
  },
  {
   "cell_type": "markdown",
   "id": "2989c83b",
   "metadata": {},
   "source": [
    "In [1]: 10 / 0\n",
    "-------------------------------------------------------------------------\n",
    "ZeroDivisionError                       Traceback (most recent call last)\n",
    "<ipython-input-1-a243dfbf119d> in <module>()\n",
    "----> 1 10 / 0\n",
    "\n",
    "ZeroDivisionError: division by zero"
   ]
  },
  {
   "cell_type": "markdown",
   "id": "57b9698b",
   "metadata": {},
   "source": [
    "In this case, the interpreter is said to raise an exception of type ZeroDivisionError. When an exception is raised in IPython, it:\n",
    "\n",
    "terminates the snippet,\n",
    "displays the exception’s traceback, then\n",
    "shows the next In [] prompt so you can input the next snippet.\n",
    "\n",
    "If an exception occurs in a script, IPython terminates the script and displays the exception’s traceback."
   ]
  },
  {
   "cell_type": "markdown",
   "id": "070fd7b0",
   "metadata": {},
   "source": [
    "Invalid Input \n",
    "Recall that the int function raises a ValueError if you attempt to convert to an integer a string (like 'hello') that does not represent a number:"
   ]
  },
  {
   "cell_type": "markdown",
   "id": "dd38812b",
   "metadata": {},
   "source": [
    "In [2]: value = int(input('Enter an integer: '))\n",
    "Enter an integer: hello\n",
    "-------------------------------------------------------------------------\n",
    "ValueError                               Traceback (most recent call last)\n",
    "<ipython-input-2-b521605464d6> in <module>()\n",
    "----> 1 value = int(input('Enter an integer: '))\n",
    "\n",
    "ValueError: invalid literal for int() with base 10: 'hello'"
   ]
  },
  {
   "cell_type": "markdown",
   "id": "53e16b31",
   "metadata": {},
   "source": [
    "9.8.2 try Statements"
   ]
  },
  {
   "cell_type": "markdown",
   "id": "940d4a4e",
   "metadata": {},
   "source": [
    "The script uses exception handling to catch and handle (i.e., deal with) any ZeroDivisionErrors and ValueErrors that arise—in this case, allowing the user to re-enter the input."
   ]
  },
  {
   "cell_type": "code",
   "execution_count": null,
   "id": "df93a2fb",
   "metadata": {},
   "outputs": [],
   "source": [
    "\"\"\"Simple exception handling example.\"\"\"\n",
    "\n",
    "while True:\n",
    "    # attempt to convert and divide values\n",
    "    try:\n",
    "        number1 = int(input('Enter numerator: '))\n",
    "        number2 = int(input('Enter denominator: '))\n",
    "        result = number1 / number2\n",
    "    except ValueError:  # tried to convert non-numeric value to int\n",
    "        print('You must enter two integers\\n')\n",
    "    except ZeroDivisionError:  # denominator was 0\n",
    "        print('Attempted to divide by zero\\n')\n",
    "    else:  # executes only if no exceptions occur\n",
    "        print(f'{number1:.3f} / {number2:.3f} = {result:.3f}')\n",
    "        break  # terminate the loop"
   ]
  },
  {
   "cell_type": "markdown",
   "id": "8a2ff381",
   "metadata": {},
   "source": [
    "try Clause\n",
    "Python uses try statements (like lines 6–16) to enable exception handling. The try statement’s try clause (lines 6–9) begins with keyword try, followed by a colon (:) and a suite of statements that might raise exceptions."
   ]
  },
  {
   "cell_type": "markdown",
   "id": "c54c0e34",
   "metadata": {},
   "source": [
    "except Clause\n",
    "A try clause may be followed by one or more except clauses (lines 10–11 and 12–13) that immediately follow the try clause’s suite. These also are known as exception handlers. Each except clause specifies the type of exception it handles. In this example, each exception handler just displays a message indicating the problem that occurred."
   ]
  },
  {
   "cell_type": "markdown",
   "id": "68aa5fb9",
   "metadata": {},
   "source": [
    "else Clause\n",
    "After the last except clause, an optional else clause (lines 14–16) specifies code that should execute only if the code in the try suite did not raise exceptions. If no exceptions occur in this example’s try suite, line 15 displays the division result and line 16 terminates the loop."
   ]
  },
  {
   "cell_type": "markdown",
   "id": "7a63483c",
   "metadata": {},
   "source": [
    "Self Check: "
   ]
  },
  {
   "cell_type": "code",
   "execution_count": null,
   "id": "0dc7851f",
   "metadata": {},
   "outputs": [],
   "source": [
    "def try_it(value)\n",
    "    try:\n",
    "        x = int(value)\n",
    "    except ValueError:\n",
    "        print(f'{value} could not be converted to an integer')\n",
    "    else:\n",
    "        print(f'int({value}) is {int(value)}')"
   ]
  },
  {
   "cell_type": "code",
   "execution_count": null,
   "id": "b6705a26",
   "metadata": {},
   "outputs": [],
   "source": [
    "try_it(10.7)"
   ]
  },
  {
   "cell_type": "code",
   "execution_count": null,
   "id": "75d15192",
   "metadata": {},
   "outputs": [],
   "source": [
    "try_it('Python')"
   ]
  },
  {
   "cell_type": "markdown",
   "id": "0484576e",
   "metadata": {},
   "source": [
    "## 9.9 finally Clause"
   ]
  },
  {
   "cell_type": "markdown",
   "id": "3ec79b4a",
   "metadata": {},
   "source": [
    "The following IPython session demonstrates that the finally clause always executes, regardless of whether an exception occurs in the corresponding try suite. First, let’s consider a try statement in which no exceptions occur in the try suite:"
   ]
  },
  {
   "cell_type": "code",
   "execution_count": 1,
   "id": "99bd39fb",
   "metadata": {},
   "outputs": [
    {
     "name": "stdout",
     "output_type": "stream",
     "text": [
      "try suite with no exceptions raised\n",
      "else executes because no exceptions in the try suite\n",
      "finally always executes\n"
     ]
    }
   ],
   "source": [
    "try:\n",
    "    print('try suite with no exceptions raised')\n",
    "except:\n",
    "    print('this will not execute')\n",
    "else:\n",
    "    print('else executes because no exceptions in the try suite')\n",
    "finally:\n",
    "    print('finally always executes')"
   ]
  },
  {
   "cell_type": "markdown",
   "id": "5aca2b7c",
   "metadata": {},
   "source": [
    "Now let’s consider a try statement in which an exception occurs in the try suite:"
   ]
  },
  {
   "cell_type": "code",
   "execution_count": 2,
   "id": "5f56046b",
   "metadata": {},
   "outputs": [
    {
     "name": "stdout",
     "output_type": "stream",
     "text": [
      "try suite that raises an exception\n",
      "a ValueError occurred\n",
      "finally always executes\n"
     ]
    }
   ],
   "source": [
    "try:\n",
    "    print('try suite that raises an exception')\n",
    "    int('hello')\n",
    "    print('this will not execute')\n",
    "except ValueError:\n",
    "    print('a ValueError occurred')\n",
    "else:\n",
    "    print('else will not execute because an exception occurred')\n",
    "finally:\n",
    "    print('finally always executes')"
   ]
  },
  {
   "cell_type": "markdown",
   "id": "476de999",
   "metadata": {},
   "source": [
    "Combining with Statements and try…except Statements"
   ]
  },
  {
   "cell_type": "code",
   "execution_count": 4,
   "id": "b49ebba3",
   "metadata": {},
   "outputs": [
    {
     "name": "stdout",
     "output_type": "stream",
     "text": [
      "The file name you specified does not exist\n"
     ]
    }
   ],
   "source": [
    "try:\n",
    "    with open('gradez.txt', 'r') as accounts:\n",
    "        print(f'{\"ID\":<3}{\"Name\":<7}{\"Grade\"}')\n",
    "        for record in accounts:\n",
    "            student_id, name, grade = record.split()\n",
    "            print(f'{student_id:<3}{name:<7}{grade}')\n",
    "except FileNotFoundError:\n",
    "    print('The file name you specified does not exist')"
   ]
  },
  {
   "cell_type": "markdown",
   "id": "712372bc",
   "metadata": {},
   "source": [
    "Self Check: Before executing the IPython session, determine what the following function displays if you call it with the value 10.7, then the value 'Python'?"
   ]
  },
  {
   "cell_type": "code",
   "execution_count": 6,
   "id": "962db9bf",
   "metadata": {},
   "outputs": [],
   "source": [
    "def try_it(value):\n",
    "    try:\n",
    "       x = int(value)\n",
    "    except ValueError:\n",
    "       print(f'{value} could not be converted to an integer')\n",
    "    else:\n",
    "       print(f'int({value}) is {int(value)}')\n",
    "    finally:\n",
    "       print('finally executed')"
   ]
  },
  {
   "cell_type": "code",
   "execution_count": 7,
   "id": "fda519ef",
   "metadata": {},
   "outputs": [
    {
     "name": "stdout",
     "output_type": "stream",
     "text": [
      "int(10.7) is 10\n",
      "finally executed\n"
     ]
    }
   ],
   "source": [
    "try_it(10.7)"
   ]
  },
  {
   "cell_type": "code",
   "execution_count": 8,
   "id": "e0e7b54f",
   "metadata": {},
   "outputs": [
    {
     "name": "stdout",
     "output_type": "stream",
     "text": [
      "Python could not be converted to an integer\n",
      "finally executed\n"
     ]
    }
   ],
   "source": [
    "try_it('Python')"
   ]
  },
  {
   "cell_type": "markdown",
   "id": "ed3880df",
   "metadata": {},
   "source": [
    "## 9.10 Explicitly Raising an Exception"
   ]
  },
  {
   "cell_type": "markdown",
   "id": "aabb5bda",
   "metadata": {},
   "source": [
    "The raise statement explicitly raises an exception. The simplest form of the raise statement is:\n",
    "raise ExceptionClassName"
   ]
  },
  {
   "cell_type": "markdown",
   "id": "d2b2863c",
   "metadata": {},
   "source": [
    "## 9.11 (Optional) Stack Unwinding and Tracebacks"
   ]
  },
  {
   "cell_type": "markdown",
   "id": "23554f43",
   "metadata": {},
   "source": [
    "Each exception object stores information indicating the precise series of function calls that led to the exception. This is helpful when debugging your code. Consider the following function definitions—function1 calls function2 and function2 raises an Exception:"
   ]
  },
  {
   "cell_type": "code",
   "execution_count": 9,
   "id": "a13737b1",
   "metadata": {},
   "outputs": [],
   "source": [
    "def function1():\n",
    "   ...:     function2()"
   ]
  },
  {
   "cell_type": "code",
   "execution_count": 10,
   "id": "e2882463",
   "metadata": {},
   "outputs": [],
   "source": [
    "def function2():\n",
    "   ...:     raise Exception('An exception occurred')\n",
    "   ...:"
   ]
  },
  {
   "cell_type": "code",
   "execution_count": 11,
   "id": "91b761a5",
   "metadata": {},
   "outputs": [
    {
     "ename": "Exception",
     "evalue": "An exception occurred",
     "output_type": "error",
     "traceback": [
      "\u001b[1;31m---------------------------------------------------------------------------\u001b[0m",
      "\u001b[1;31mException\u001b[0m                                 Traceback (most recent call last)",
      "Input \u001b[1;32mIn [11]\u001b[0m, in \u001b[0;36m<cell line: 1>\u001b[1;34m()\u001b[0m\n\u001b[1;32m----> 1\u001b[0m \u001b[43mfunction1\u001b[49m\u001b[43m(\u001b[49m\u001b[43m)\u001b[49m\n",
      "Input \u001b[1;32mIn [9]\u001b[0m, in \u001b[0;36mfunction1\u001b[1;34m()\u001b[0m\n\u001b[0;32m      1\u001b[0m \u001b[38;5;28;01mdef\u001b[39;00m \u001b[38;5;21mfunction1\u001b[39m():\n\u001b[1;32m----> 2\u001b[0m     \u001b[43mfunction2\u001b[49m\u001b[43m(\u001b[49m\u001b[43m)\u001b[49m\n",
      "Input \u001b[1;32mIn [10]\u001b[0m, in \u001b[0;36mfunction2\u001b[1;34m()\u001b[0m\n\u001b[0;32m      1\u001b[0m \u001b[38;5;28;01mdef\u001b[39;00m \u001b[38;5;21mfunction2\u001b[39m():\n\u001b[1;32m----> 2\u001b[0m     \u001b[38;5;28;01mraise\u001b[39;00m \u001b[38;5;167;01mException\u001b[39;00m(\u001b[38;5;124m'\u001b[39m\u001b[38;5;124mAn exception occurred\u001b[39m\u001b[38;5;124m'\u001b[39m)\n",
      "\u001b[1;31mException\u001b[0m: An exception occurred"
     ]
    }
   ],
   "source": [
    "function1()"
   ]
  },
  {
   "cell_type": "markdown",
   "id": "4b507ecf",
   "metadata": {},
   "source": [
    "Traceback Details"
   ]
  },
  {
   "cell_type": "markdown",
   "id": "3fd58294",
   "metadata": {},
   "source": [
    "The traceback shows the type of exception that occurred (Exception) followed by the complete function call stack that led to the raise point. The stack’s bottom function call is listed first and the top is last, so the interpreter displays the following text as a reminder: Traceback (most recent call last)"
   ]
  },
  {
   "cell_type": "markdown",
   "id": "b820be76",
   "metadata": {},
   "source": [
    "Stack Unwinding"
   ]
  },
  {
   "cell_type": "markdown",
   "id": "7f5058cf",
   "metadata": {},
   "source": [
    "When an exception is not caught in a given function, stack unwinding occurs. Let’s consider stack unwinding in the context of this example:\n",
    "\n",
    "In function2, the raise statement raises an exception. This is not in a try suite, so function2 terminates, its stack frame is removed from the function-call stack, and control returns to the statement in function1 that called function2.\n",
    "\n",
    "In function1, the statement that called function2 is not in a try suite, so function1 terminates, its stack frame is removed from the function-call stack, and control returns to the statement that called function1—snippet [3] in the IPython session.\n",
    "\n",
    "The call in snippet [3] call is not in a try suite, so that function call terminates. Because the exception was not caught (known as an uncaught exception), IPython displays the traceback, then awaits your next input. If this occurred in a typical script, the script would terminate.10"
   ]
  },
  {
   "cell_type": "markdown",
   "id": "9a61b00e",
   "metadata": {},
   "source": [
    "Exceptions in finally Suites\n",
    "\n",
    "Raising an exception in a finally suite can lead to subtle, hard-to-find problems. If an exception occurs and is not processed by the time the finally suite executes, stack unwinding occurs. If the finally suite raises a new exception that the suite does not catch, the first exception is lost, and the new exception is passed to the next enclosing try statement. For this reason, a finally suite should always enclose in a try statement any code that may raise an exception, so that the exceptions will be processed within that suite."
   ]
  },
  {
   "cell_type": "markdown",
   "id": "85bf4e6f",
   "metadata": {},
   "source": [
    "## 9.12 Intro to Data Science: Working with CSV Files"
   ]
  },
  {
   "cell_type": "markdown",
   "id": "03647db5",
   "metadata": {},
   "source": [
    "9.12.1 Python Standard Library Module csv"
   ]
  },
  {
   "cell_type": "code",
   "execution_count": 14,
   "id": "54a8624c",
   "metadata": {},
   "outputs": [],
   "source": [
    "import csv"
   ]
  },
  {
   "cell_type": "code",
   "execution_count": 15,
   "id": "65aea841",
   "metadata": {},
   "outputs": [],
   "source": [
    "with open('accounts.csv', mode='w', newline='') as accounts:\n",
    "   ...:     writer = csv.writer(accounts)\n",
    "   ...:     writer.writerow([100, 'Jones', 24.98])\n",
    "   ...:     writer.writerow([200, 'Doe', 345.67])\n",
    "   ...:     writer.writerow([300, 'White', 0.00])\n",
    "   ...:     writer.writerow([400, 'Stone', -42.16])\n",
    "   ...:     writer.writerow([500, 'Rich', 224.62])"
   ]
  },
  {
   "cell_type": "markdown",
   "id": "718dddd5",
   "metadata": {},
   "source": [
    "The .csv file extension indicates a CSV-format file. The csv module’s writer function returns an object that writes CSV data to the specified file object. Each call to the writer’s writerow method receives an iterable to store in the file. Here we’re using lists. By default, writerow delimits values with commas, but you can specify custom delimiters.12 After the preceding snippet, accounts.csv contains:"
   ]
  },
  {
   "cell_type": "markdown",
   "id": "365e0a7e",
   "metadata": {},
   "source": [
    "Reading from a CSV File"
   ]
  },
  {
   "cell_type": "code",
   "execution_count": 16,
   "id": "b917788b",
   "metadata": {},
   "outputs": [
    {
     "name": "stdout",
     "output_type": "stream",
     "text": [
      "Account   Name         Balance\n",
      "100       Jones          24.98\n",
      "200       Doe           345.67\n",
      "300       White            0.0\n",
      "400       Stone         -42.16\n",
      "500       Rich          224.62\n"
     ]
    }
   ],
   "source": [
    "with open('accounts.csv', 'r', newline='') as accounts:\n",
    "   ...:     print(f'{\"Account\":<10}{\"Name\":<10}{\"Balance\":>10}')\n",
    "   ...:     reader = csv.reader(accounts)\n",
    "   ...:     for record in reader:\n",
    "   ...:         account, name, balance = record\n",
    "   ...:         print(f'{account:<10}{name:<10}{balance:>10}')"
   ]
  },
  {
   "cell_type": "markdown",
   "id": "bad1ed37",
   "metadata": {},
   "source": [
    "Self Check: create a text file named grades.csv and write to it the following three records consisting of student IDs, last names and letter grades:"
   ]
  },
  {
   "cell_type": "code",
   "execution_count": 17,
   "id": "d95c1564",
   "metadata": {},
   "outputs": [],
   "source": [
    "import csv"
   ]
  },
  {
   "cell_type": "code",
   "execution_count": 19,
   "id": "1f97838e",
   "metadata": {},
   "outputs": [],
   "source": [
    "with open('grades.csv', mode='w', newline='') as grades:\n",
    "   ...:     writer = csv.writer(grades)\n",
    "   ...:     writer.writerow([1, 'Red', 'A'])\n",
    "   ...:     writer.writerow([2, 'Green', 'B'])\n",
    "   ...:     writer.writerow([3, 'White', 'A'])"
   ]
  },
  {
   "cell_type": "code",
   "execution_count": 20,
   "id": "3ea6fa30",
   "metadata": {},
   "outputs": [
    {
     "name": "stdout",
     "output_type": "stream",
     "text": [
      "ID        Name           Grade\n",
      "1         Red                A\n",
      "2         Green              B\n",
      "3         White              A\n"
     ]
    }
   ],
   "source": [
    "with open('grades.csv', 'r', newline='') as grades:\n",
    "   ...:     print(f'{\"ID\":<10}{\"Name\":<10}{\"Grade\":>10}')\n",
    "   ...:     reader = csv.reader(grades)\n",
    "   ...:     for record in reader:\n",
    "   ...:         ID, name, Grade = record\n",
    "   ...:         print(f'{ID:<10}{name:<10}{Grade:>10}')"
   ]
  },
  {
   "cell_type": "markdown",
   "id": "16f21e9f",
   "metadata": {},
   "source": [
    "9.12.2 Reading CSV Files into Pandas DataFrames"
   ]
  },
  {
   "cell_type": "markdown",
   "id": "95766740",
   "metadata": {},
   "source": [
    "The popular Rdatasets repository provides links to over 1100 free datasets in comma-separated values (CSV) format. These were originally provided with the R programming language for people learning about and developing statistical software, though they are not specific to R. They are now available on GitHub at:\n",
    "https://vincentarelbundock.github.io/Rdatasets/datasets.html\n",
    "This repository is so popular that there’s a pydataset module specifically for accessing Rdatasets."
   ]
  },
  {
   "cell_type": "markdown",
   "id": "b36b47ea",
   "metadata": {},
   "source": [
    "Working with Locally Stored CSV Files "
   ]
  },
  {
   "cell_type": "markdown",
   "id": "bf2fbb64",
   "metadata": {},
   "source": [
    "You can load a CSV dataset into a DataFrame with the pandas function read_csv. The following loads and displays the CSV file accounts.csv that you created earlier in this chapter:\n"
   ]
  },
  {
   "cell_type": "code",
   "execution_count": 21,
   "id": "da7aa01f",
   "metadata": {},
   "outputs": [],
   "source": [
    "import pandas as pd"
   ]
  },
  {
   "cell_type": "code",
   "execution_count": 22,
   "id": "7d1c45f6",
   "metadata": {},
   "outputs": [],
   "source": [
    "df = pd.read_csv('accounts.csv',\n",
    "   ...:                  names=['account', 'name', 'balance'])"
   ]
  },
  {
   "cell_type": "code",
   "execution_count": 23,
   "id": "82d3b9df",
   "metadata": {},
   "outputs": [
    {
     "data": {
      "text/html": [
       "<div>\n",
       "<style scoped>\n",
       "    .dataframe tbody tr th:only-of-type {\n",
       "        vertical-align: middle;\n",
       "    }\n",
       "\n",
       "    .dataframe tbody tr th {\n",
       "        vertical-align: top;\n",
       "    }\n",
       "\n",
       "    .dataframe thead th {\n",
       "        text-align: right;\n",
       "    }\n",
       "</style>\n",
       "<table border=\"1\" class=\"dataframe\">\n",
       "  <thead>\n",
       "    <tr style=\"text-align: right;\">\n",
       "      <th></th>\n",
       "      <th>account</th>\n",
       "      <th>name</th>\n",
       "      <th>balance</th>\n",
       "    </tr>\n",
       "  </thead>\n",
       "  <tbody>\n",
       "    <tr>\n",
       "      <th>0</th>\n",
       "      <td>100</td>\n",
       "      <td>Jones</td>\n",
       "      <td>24.98</td>\n",
       "    </tr>\n",
       "    <tr>\n",
       "      <th>1</th>\n",
       "      <td>200</td>\n",
       "      <td>Doe</td>\n",
       "      <td>345.67</td>\n",
       "    </tr>\n",
       "    <tr>\n",
       "      <th>2</th>\n",
       "      <td>300</td>\n",
       "      <td>White</td>\n",
       "      <td>0.00</td>\n",
       "    </tr>\n",
       "    <tr>\n",
       "      <th>3</th>\n",
       "      <td>400</td>\n",
       "      <td>Stone</td>\n",
       "      <td>-42.16</td>\n",
       "    </tr>\n",
       "    <tr>\n",
       "      <th>4</th>\n",
       "      <td>500</td>\n",
       "      <td>Rich</td>\n",
       "      <td>224.62</td>\n",
       "    </tr>\n",
       "  </tbody>\n",
       "</table>\n",
       "</div>"
      ],
      "text/plain": [
       "   account   name  balance\n",
       "0      100  Jones    24.98\n",
       "1      200    Doe   345.67\n",
       "2      300  White     0.00\n",
       "3      400  Stone   -42.16\n",
       "4      500   Rich   224.62"
      ]
     },
     "execution_count": 23,
     "metadata": {},
     "output_type": "execute_result"
    }
   ],
   "source": [
    "df"
   ]
  },
  {
   "cell_type": "markdown",
   "id": "37da9f6f",
   "metadata": {},
   "source": [
    "9.12.3 Reading the Titanic Disaster Dataset: see project part 1 notebook"
   ]
  },
  {
   "cell_type": "markdown",
   "id": "99d25643",
   "metadata": {},
   "source": [
    "Self Check:  Load the grades.csv file you created in the Section 9.12.1’s Self Check into a DataFrame, then display it."
   ]
  },
  {
   "cell_type": "code",
   "execution_count": 24,
   "id": "5ea1ba38",
   "metadata": {},
   "outputs": [
    {
     "data": {
      "text/html": [
       "<div>\n",
       "<style scoped>\n",
       "    .dataframe tbody tr th:only-of-type {\n",
       "        vertical-align: middle;\n",
       "    }\n",
       "\n",
       "    .dataframe tbody tr th {\n",
       "        vertical-align: top;\n",
       "    }\n",
       "\n",
       "    .dataframe thead th {\n",
       "        text-align: right;\n",
       "    }\n",
       "</style>\n",
       "<table border=\"1\" class=\"dataframe\">\n",
       "  <thead>\n",
       "    <tr style=\"text-align: right;\">\n",
       "      <th></th>\n",
       "      <th>ID</th>\n",
       "      <th>Name</th>\n",
       "      <th>Grade</th>\n",
       "    </tr>\n",
       "  </thead>\n",
       "  <tbody>\n",
       "    <tr>\n",
       "      <th>0</th>\n",
       "      <td>1</td>\n",
       "      <td>Red</td>\n",
       "      <td>A</td>\n",
       "    </tr>\n",
       "    <tr>\n",
       "      <th>1</th>\n",
       "      <td>2</td>\n",
       "      <td>Green</td>\n",
       "      <td>B</td>\n",
       "    </tr>\n",
       "    <tr>\n",
       "      <th>2</th>\n",
       "      <td>3</td>\n",
       "      <td>White</td>\n",
       "      <td>A</td>\n",
       "    </tr>\n",
       "  </tbody>\n",
       "</table>\n",
       "</div>"
      ],
      "text/plain": [
       "   ID   Name Grade\n",
       "0   1    Red     A\n",
       "1   2  Green     B\n",
       "2   3  White     A"
      ]
     },
     "execution_count": 24,
     "metadata": {},
     "output_type": "execute_result"
    }
   ],
   "source": [
    "pd.read_csv('grades.csv', names=['ID', 'Name', 'Grade'])"
   ]
  },
  {
   "cell_type": "code",
   "execution_count": null,
   "id": "c5ffba53",
   "metadata": {},
   "outputs": [],
   "source": []
  }
 ],
 "metadata": {
  "kernelspec": {
   "display_name": "Python 3 (ipykernel)",
   "language": "python",
   "name": "python3"
  },
  "language_info": {
   "codemirror_mode": {
    "name": "ipython",
    "version": 3
   },
   "file_extension": ".py",
   "mimetype": "text/x-python",
   "name": "python",
   "nbconvert_exporter": "python",
   "pygments_lexer": "ipython3",
   "version": "3.9.12"
  }
 },
 "nbformat": 4,
 "nbformat_minor": 5
}
